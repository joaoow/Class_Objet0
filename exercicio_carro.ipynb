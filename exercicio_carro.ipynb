{
  "nbformat": 4,
  "nbformat_minor": 0,
  "metadata": {
    "colab": {
      "provenance": []
    },
    "kernelspec": {
      "name": "python3",
      "display_name": "Python 3"
    },
    "language_info": {
      "name": "python"
    }
  },
  "cells": [
    {
      "cell_type": "code",
      "source": [
        "class Veiculo:\n",
        "  def __init__(self, nome, velocidade_max, quilometro_litro):\n",
        "    self.nome = nome\n",
        "    self.velocidade_max = velocidade_max\n",
        "    self.quilometro_litro = quilometro_litro\n",
        "\n",
        "  def toStr(self):\n",
        "    print(f'nome = {self.nome}')\n",
        "    print(f'velocidade_max = {self.velocidade_max}')\n",
        "    print(f'quilometro_litro = {self.quilometro_litro}')\n",
        "\n",
        "#modelo carro é um objeto que recebe a classe veiculo\n",
        "modelo_carro = Veiculo('fusca', 180, 10)\n",
        "modelo_carro.toStr()\n",
        "\n",
        "\n"
      ],
      "metadata": {
        "colab": {
          "base_uri": "https://localhost:8080/"
        },
        "id": "lMVY-09LUgWm",
        "outputId": "127077a2-8d29-41e9-a89a-a3ef270a062c"
      },
      "execution_count": 1,
      "outputs": [
        {
          "output_type": "stream",
          "name": "stdout",
          "text": [
            "nome = fusca\n",
            "velocidade_max = 180\n",
            "quilometro_litro = 10\n"
          ]
        }
      ]
    }
  ]
}